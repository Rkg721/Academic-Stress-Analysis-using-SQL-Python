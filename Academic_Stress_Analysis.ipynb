{
 "cells": [
  {
   "cell_type": "markdown",
   "id": "2c95ea85",
   "metadata": {},
   "source": [
    "# 📊 Final Project Report: Academic Stress Analysis"
   ]
  },
  {
   "cell_type": "markdown",
   "id": "c7e8f538",
   "metadata": {},
   "source": [
    "## Executive Summary\n",
    "This notebook contains a comprehensive analysis of the student academic stress survey data.\n",
    "\n",
    "The analysis covers:\n",
    "- Data Cleaning & Preparation\n",
    "- Exploratory Data Analysis (EDA)\n",
    "- Visualization & Insights\n",
    "- Correlation Analysis\n",
    "- KPI → Action Recommendations\n",
    "- Executive Summary\n"
   ]
  },
  {
   "cell_type": "code",
   "execution_count": null,
   "id": "702c490e",
   "metadata": {},
   "outputs": [],
   "source": [
    "\n",
    "import pandas as pd\n",
    "import numpy as np\n",
    "import matplotlib.pyplot as plt\n",
    "import seaborn as sns\n",
    "\n",
    "# Load dataset\n",
    "df = pd.read_csv(\"academic Stress level - maintainance 1.csv\")\n",
    "\n",
    "df.head()\n"
   ]
  },
  {
   "cell_type": "markdown",
   "id": "6b87aff8",
   "metadata": {},
   "source": [
    "## 1. Data Cleaning"
   ]
  },
  {
   "cell_type": "code",
   "execution_count": null,
   "id": "8a3a6257",
   "metadata": {},
   "outputs": [],
   "source": [
    "\n",
    "# Rename columns to snake_case\n",
    "df.columns = ['timestamp', 'academic_stage', 'peer_pressure', 'home_pressure', \n",
    "              'study_environment', 'coping_strategy', 'bad_habits', \n",
    "              'competition_rating', 'stress_index']\n",
    "\n",
    "# Convert timestamp\n",
    "df['timestamp'] = pd.to_datetime(df['timestamp'], format='%d/%m/%Y %H:%M:%S')\n",
    "\n",
    "# Handle missing values\n",
    "df['study_environment'] = df['study_environment'].fillna('Unknown')\n",
    "\n",
    "# Check datatypes and missing values\n",
    "df.info()\n"
   ]
  },
  {
   "cell_type": "markdown",
   "id": "bba624f0",
   "metadata": {},
   "source": [
    "## 2. Descriptive Statistics"
   ]
  },
  {
   "cell_type": "code",
   "execution_count": null,
   "id": "77df53c8",
   "metadata": {},
   "outputs": [],
   "source": [
    "\n",
    "summary_stats = df.describe(include='all').T\n",
    "summary_stats\n"
   ]
  },
  {
   "cell_type": "markdown",
   "id": "cede79a8",
   "metadata": {},
   "source": [
    "## 3. Stress by Academic Stage"
   ]
  },
  {
   "cell_type": "code",
   "execution_count": null,
   "id": "c33769ce",
   "metadata": {},
   "outputs": [],
   "source": [
    "\n",
    "avg_stress_by_stage = df.groupby('academic_stage')['stress_index'].mean().sort_values(ascending=False)\n",
    "\n",
    "plt.figure(figsize=(8,5))\n",
    "sns.barplot(x=avg_stress_by_stage.index, y=avg_stress_by_stage.values, palette='viridis')\n",
    "plt.title('Average Academic Stress Index by Academic Stage')\n",
    "plt.xlabel('Academic Stage')\n",
    "plt.ylabel('Average Stress Index (1-5)')\n",
    "plt.show()\n",
    "\n",
    "avg_stress_by_stage\n"
   ]
  },
  {
   "cell_type": "markdown",
   "id": "69f2cf2f",
   "metadata": {},
   "source": [
    "## 4. Distribution of Coping Strategies"
   ]
  },
  {
   "cell_type": "code",
   "execution_count": null,
   "id": "b71692a0",
   "metadata": {},
   "outputs": [],
   "source": [
    "\n",
    "coping_strategy_counts = df['coping_strategy'].value_counts()\n",
    "\n",
    "plt.figure(figsize=(10,6))\n",
    "sns.countplot(y='coping_strategy', data=df, order=df['coping_strategy'].value_counts().index, palette='plasma')\n",
    "plt.title('Distribution of Coping Strategies')\n",
    "plt.xlabel('Number of Students')\n",
    "plt.ylabel('Coping Strategy')\n",
    "plt.show()\n",
    "\n",
    "coping_strategy_counts\n"
   ]
  },
  {
   "cell_type": "markdown",
   "id": "7f1e1d3a",
   "metadata": {},
   "source": [
    "## 5. Correlation Between Pressures and Stress"
   ]
  },
  {
   "cell_type": "code",
   "execution_count": null,
   "id": "cb4fc6fb",
   "metadata": {},
   "outputs": [],
   "source": [
    "\n",
    "numerical_cols = ['peer_pressure', 'home_pressure', 'competition_rating', 'stress_index']\n",
    "correlation_matrix = df[numerical_cols].corr()\n",
    "\n",
    "plt.figure(figsize=(6,5))\n",
    "sns.heatmap(correlation_matrix, annot=True, cmap='coolwarm', fmt=\".2f\")\n",
    "plt.title('Correlation Matrix of Pressure and Stress')\n",
    "plt.show()\n",
    "\n",
    "correlation_matrix\n"
   ]
  },
  {
   "cell_type": "markdown",
   "id": "6cccad2d",
   "metadata": {},
   "source": [
    "## 6. Impact of Study Environment"
   ]
  },
  {
   "cell_type": "code",
   "execution_count": null,
   "id": "8deab3f4",
   "metadata": {},
   "outputs": [],
   "source": [
    "\n",
    "stress_by_env = df.groupby('study_environment')['stress_index'].mean().sort_values(ascending=False)\n",
    "\n",
    "plt.figure(figsize=(8,5))\n",
    "sns.barplot(x=stress_by_env.index, y=stress_by_env.values, palette='cubehelix')\n",
    "plt.title('Average Stress Index by Study Environment')\n",
    "plt.xlabel('Study Environment')\n",
    "plt.ylabel('Average Stress Index')\n",
    "plt.xticks(rotation=45)\n",
    "plt.show()\n",
    "\n",
    "stress_by_env\n"
   ]
  },
  {
   "cell_type": "markdown",
   "id": "ae7df511",
   "metadata": {},
   "source": [
    "## 7. Stress Index by Bad Habits"
   ]
  },
  {
   "cell_type": "code",
   "execution_count": null,
   "id": "0b2b48e5",
   "metadata": {},
   "outputs": [],
   "source": [
    "\n",
    "stress_by_habits = df.groupby('bad_habits')['stress_index'].mean()\n",
    "\n",
    "plt.figure(figsize=(6,4))\n",
    "sns.barplot(x=stress_by_habits.index, y=stress_by_habits.values, palette='muted')\n",
    "plt.title('Average Stress Index by Bad Habits')\n",
    "plt.xlabel('Daily Bad Habits')\n",
    "plt.ylabel('Average Stress Index')\n",
    "plt.show()\n",
    "\n",
    "stress_by_habits\n"
   ]
  },
  {
   "cell_type": "markdown",
   "id": "a0ec8238",
   "metadata": {},
   "source": [
    "## 8. Characteristics of High-Stress Students (Stress Index = 5)"
   ]
  },
  {
   "cell_type": "code",
   "execution_count": null,
   "id": "59f66b90",
   "metadata": {},
   "outputs": [],
   "source": [
    "\n",
    "high_stress_students = df[df['stress_index'] == 5]\n",
    "\n",
    "coping_strat_high_stress = high_stress_students['coping_strategy'].value_counts()\n",
    "academic_stage_high_stress = high_stress_students['academic_stage'].value_counts()\n",
    "env_high_stress = high_stress_students['study_environment'].value_counts()\n",
    "\n",
    "coping_strat_high_stress, academic_stage_high_stress, env_high_stress\n"
   ]
  },
  {
   "cell_type": "markdown",
   "id": "6ef9d44a",
   "metadata": {},
   "source": [
    "## 9. Stress Trend Over Time (Rolling Average)"
   ]
  },
  {
   "cell_type": "code",
   "execution_count": null,
   "id": "197b6088",
   "metadata": {},
   "outputs": [],
   "source": [
    "\n",
    "df['rolling_avg_stress'] = df['stress_index'].rolling(window=100).mean()\n",
    "\n",
    "plt.figure(figsize=(12,6))\n",
    "df['rolling_avg_stress'].plot(color='blue')\n",
    "plt.title('Rolling Average Stress Trend (window=100)')\n",
    "plt.xlabel('Index')\n",
    "plt.ylabel('Stress Index (Rolling Avg)')\n",
    "plt.show()\n"
   ]
  },
  {
   "cell_type": "markdown",
   "id": "88b008ba",
   "metadata": {},
   "source": [
    "## 10. Executive Summary & KPI Action Matrix"
   ]
  },
  {
   "cell_type": "markdown",
   "id": "78df89be",
   "metadata": {},
   "source": [
    "\n",
    "**Key KPIs & Insights:**\n",
    "\n",
    "- **KPI 1:** Postgraduate students face the highest stress (4.10 avg).  \n",
    "- **KPI 2:** Home pressure correlates stronger (0.61) than peer pressure (0.45).  \n",
    "- **KPI 3:** Disrupted study environments yield highest stress (4.12).  \n",
    "- **KPI 4:** Coping strategies: 'Intellect' dominates, but emotional breakdown is significant.  \n",
    "- **KPI 5:** Students with bad habits report much higher stress (4.50).  \n",
    "\n",
    "**Action Recommendations:**\n",
    "\n",
    "- 🧑‍🎓 Targeted support for postgraduates.  \n",
    "- 🏠 Parent awareness workshops.  \n",
    "- 🛋️ Provide quiet study zones.  \n",
    "- 🧠 Emotional intelligence & stress management programs.  \n",
    "- 🚭 Health campaigns to reduce maladaptive habits.  \n"
   ]
  }
 ],
 "metadata": {},
 "nbformat": 4,
 "nbformat_minor": 5
}
